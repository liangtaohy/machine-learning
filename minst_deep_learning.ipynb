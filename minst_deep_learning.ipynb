{
 "cells": [
  {
   "cell_type": "markdown",
   "metadata": {},
   "source": [
    "## MINST数据集的神经网络"
   ]
  },
  {
   "cell_type": "markdown",
   "metadata": {},
   "source": [
    "### 神经网络术语约定"
   ]
  },
  {
   "cell_type": "markdown",
   "metadata": {},
   "source": [
    "* Input Layer为第一层，Output Layer为最后一层，hidden layer为中间层。层的集合为`L`。\n",
    "* `W`为weights的缩写,`b`为bias的缩写。\n",
    "* \\\\(a^i\\\\)为\\\\(L^i\\\\)层的输出，公式为：\\\\(a^i = \\sigma(W^i*a^{i-1} + b^i)\\\\)。约定\\\\(a^1\\\\)为输入数据\n",
    "* 前向传播即为计算各神经层的输出的过程：\\\\(a^1,a^2,...,a^m\\\\)"
   ]
  },
  {
   "cell_type": "code",
   "execution_count": 16,
   "metadata": {},
   "outputs": [],
   "source": [
    "import numpy as np\n",
    "from functools import reduce\n",
    "\n",
    "class Network:\n",
    "    def __init__(self, sizes):\n",
    "        self.num_layers = len(sizes)\n",
    "        self.sizes = sizes\n",
    "        self.weights = [np.random.rand(L_2, L_1) for L_2, L_1 in zip(sizes[1:], sizes[:-1])]\n",
    "        self.biases = [np.random.rand(L_2, 1) for L_2 in sizes[1:]]\n",
    "    \n",
    "    def parameter_size(self):\n",
    "        \"\"\"Total parameters of the network\"\"\"\n",
    "        sizes = 0\n",
    "        for w,b in zip(self.weights, self.biases):\n",
    "            sizes += reduce(lambda x,y: x*y, w.shape)\n",
    "            sizes += reduce(lambda x,y: x*y, b.shape)\n",
    "        return sizes\n",
    "    \n",
    "    def sigmoid(self, z):\n",
    "        return 1.0/(1.0+np.exp(-z))\n",
    "    \n",
    "    def sigmoid_derivative(self, z):\n",
    "        return self.sigmoid(z) * (1 - self.sigmoid(z))\n",
    "    \n",
    "    def feedforward(self, a):\n",
    "        \"\"\"\n",
    "        formula: f(Wa+b)\n",
    "        \"\"\"\n",
    "        for W, b in zip(self.weights, self.biases):\n",
    "            a = sigmoid(np.dot(W, a) + b)\n",
    "        \n",
    "        return a\n",
    "\n",
    "    def mini_batch(self, m_batch, learning_rate):\n",
    "        m = len(m_batch)\n",
    "        nabla_b = [np.zeros(bias.shape) for bias in self.biases]\n",
    "        nabla_w = [np.zeros(weight.shape) for weight in self.weights]\n",
    "        \n",
    "        for x, y in m_batch:\n",
    "            d_w, d_b = self.backprop(x, y)\n",
    "            nabla_w = [nw+dw for nw, dw in zip(nabla_w, d_w)]\n",
    "            nabla_b = [nb+db for nb, db in zip(nabla_b, d_b)]\n",
    "        \n",
    "        self.weights = [w-(learning_rate/m)*dw for w, dw in zip(self.weights, nabla_w)]\n",
    "        self.biases = [b-(learning_rate/m)*db for b, db in zip(self.biases, nabla_b)]\n",
    "        \n",
    "    def backprop(self, x, y):\n",
    "        nabla_b = [np.zeros(bias.shape) for bias in self.biases]\n",
    "        nabla_w = [np.zeros(weight.shape) for weight in self.weights]\n",
    "        \n",
    "        activation = x\n",
    "        activationx = [x]\n",
    "        activation_sd = []\n",
    "        \n",
    "        zs = []\n",
    "        \n",
    "        for l in range(self.num_layers):\n",
    "            z = np.dot(self.weights[l], activation) + self.biases[l]\n",
    "            zs.append(z)\n",
    "            activation = self.sigmoid(z)\n",
    "            activationx.append(activation)\n",
    "            activation_sd.append(self.sigmoid_derivative(z))\n",
    "        \n",
    "        delta = self.cost_derivative(y, activationx[-1]) * activation_sd[-1]\n",
    "        nabla_b[-1] = delta\n",
    "        nabla_w[-1] = np.dot(delta, activationx[-2].transpose())\n",
    "        \n",
    "        for i in range(2, self.num_layers):\n",
    "            z = zs[-i]\n",
    "            delta = np.dot(self.weights[-i + 1].transpose(), delta) * self.sigmoid_derivative(z)\n",
    "            nabla_b[-i] = delta\n",
    "            nabla_w[-i] = np.dot(delta, activationx[-i - 1].transpose())\n",
    "        \n",
    "        return nabla_w, nabla_b\n",
    "        \n",
    "        \n",
    "    def cost_derivative(self, y, a):\n",
    "        \"\"\"return partial derivatives of C_x\"\"\"\n",
    "        return (a - y)"
   ]
  },
  {
   "cell_type": "code",
   "execution_count": 18,
   "metadata": {},
   "outputs": [
    {
     "name": "stdout",
     "output_type": "stream",
     "text": [
      "23860\n"
     ]
    }
   ],
   "source": [
    "network = Network(sizes=[784,30,10])\n",
    "print(network.parameter_size())"
   ]
  },
  {
   "cell_type": "code",
   "execution_count": 29,
   "metadata": {},
   "outputs": [],
   "source": [
    "#-*-coding:utf8-*-\n",
    "import _pickle as cPickle\n",
    "import gzip\n",
    "\n",
    "# Third-party libraries\n",
    "import numpy as np\n",
    "\n",
    "def load_data_from_pickle():\n",
    "    f = gzip.open('data/mnist.pkl.gz', 'rb')\n",
    "    training_data, validation_data, test_data = cPickle.load(f)\n",
    "    f.close()\n",
    "    return (training_data, validation_data, test_data)"
   ]
  },
  {
   "cell_type": "code",
   "execution_count": 30,
   "metadata": {},
   "outputs": [
    {
     "ename": "UnicodeDecodeError",
     "evalue": "'ascii' codec can't decode byte 0x90 in position 614: ordinal not in range(128)",
     "output_type": "error",
     "traceback": [
      "\u001b[0;31m---------------------------------------------------------------------------\u001b[0m",
      "\u001b[0;31mUnicodeDecodeError\u001b[0m                        Traceback (most recent call last)",
      "\u001b[0;32m<ipython-input-30-338bec5353a5>\u001b[0m in \u001b[0;36m<module>\u001b[0;34m\u001b[0m\n\u001b[0;32m----> 1\u001b[0;31m \u001b[0mprint\u001b[0m\u001b[0;34m(\u001b[0m\u001b[0mload_data_from_pickle\u001b[0m\u001b[0;34m(\u001b[0m\u001b[0;34m)\u001b[0m\u001b[0;34m)\u001b[0m\u001b[0;34m\u001b[0m\u001b[0m\n\u001b[0m",
      "\u001b[0;32m<ipython-input-29-fe66488a7c70>\u001b[0m in \u001b[0;36mload_data_from_pickle\u001b[0;34m()\u001b[0m\n\u001b[1;32m      8\u001b[0m \u001b[0;32mdef\u001b[0m \u001b[0mload_data_from_pickle\u001b[0m\u001b[0;34m(\u001b[0m\u001b[0;34m)\u001b[0m\u001b[0;34m:\u001b[0m\u001b[0;34m\u001b[0m\u001b[0m\n\u001b[1;32m      9\u001b[0m     \u001b[0mf\u001b[0m \u001b[0;34m=\u001b[0m \u001b[0mgzip\u001b[0m\u001b[0;34m.\u001b[0m\u001b[0mopen\u001b[0m\u001b[0;34m(\u001b[0m\u001b[0;34m'data/mnist.pkl.gz'\u001b[0m\u001b[0;34m,\u001b[0m \u001b[0;34m'rb'\u001b[0m\u001b[0;34m)\u001b[0m\u001b[0;34m\u001b[0m\u001b[0m\n\u001b[0;32m---> 10\u001b[0;31m     \u001b[0mtraining_data\u001b[0m\u001b[0;34m,\u001b[0m \u001b[0mvalidation_data\u001b[0m\u001b[0;34m,\u001b[0m \u001b[0mtest_data\u001b[0m \u001b[0;34m=\u001b[0m \u001b[0mcPickle\u001b[0m\u001b[0;34m.\u001b[0m\u001b[0mload\u001b[0m\u001b[0;34m(\u001b[0m\u001b[0mf\u001b[0m\u001b[0;34m)\u001b[0m\u001b[0;34m\u001b[0m\u001b[0m\n\u001b[0m\u001b[1;32m     11\u001b[0m     \u001b[0mf\u001b[0m\u001b[0;34m.\u001b[0m\u001b[0mclose\u001b[0m\u001b[0;34m(\u001b[0m\u001b[0;34m)\u001b[0m\u001b[0;34m\u001b[0m\u001b[0m\n\u001b[1;32m     12\u001b[0m     \u001b[0;32mreturn\u001b[0m \u001b[0;34m(\u001b[0m\u001b[0mtraining_data\u001b[0m\u001b[0;34m,\u001b[0m \u001b[0mvalidation_data\u001b[0m\u001b[0;34m,\u001b[0m \u001b[0mtest_data\u001b[0m\u001b[0;34m)\u001b[0m\u001b[0;34m\u001b[0m\u001b[0m\n",
      "\u001b[0;31mUnicodeDecodeError\u001b[0m: 'ascii' codec can't decode byte 0x90 in position 614: ordinal not in range(128)"
     ]
    }
   ],
   "source": [
    "print(load_data_from_pickle())"
   ]
  },
  {
   "cell_type": "code",
   "execution_count": null,
   "metadata": {},
   "outputs": [],
   "source": []
  }
 ],
 "metadata": {
  "kernelspec": {
   "display_name": "Python 3",
   "language": "python",
   "name": "python3"
  },
  "language_info": {
   "codemirror_mode": {
    "name": "ipython",
    "version": 3
   },
   "file_extension": ".py",
   "mimetype": "text/x-python",
   "name": "python",
   "nbconvert_exporter": "python",
   "pygments_lexer": "ipython3",
   "version": "3.5.2"
  },
  "widgets": {
   "state": {},
   "version": "1.1.2"
  }
 },
 "nbformat": 4,
 "nbformat_minor": 2
}
